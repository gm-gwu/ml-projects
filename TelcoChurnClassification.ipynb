{
 "cells": [
  {
   "cell_type": "code",
   "execution_count": 41,
   "metadata": {},
   "outputs": [],
   "source": [
    "import json\n",
    "import numpy as np\n",
    "import pandas as pd\n",
    "import matplotlib.pyplot as plt\n",
    "import seaborn as sns\n",
    "from sklearn.metrics import accuracy_score\n",
    "from sklearn.metrics import roc_auc_score\n",
    "#from imblearn.over_sampling import SMOTE, BorderlineSMOTE\n",
    "from sklearn.preprocessing import StandardScaler\n",
    "\n",
    "from sklearn.model_selection import train_test_split, GridSearchCV\n",
    "from sklearn.metrics import accuracy_score, classification_report\n",
    "from sklearn.metrics import confusion_matrix, classification_report\n",
    "\n",
    "import datetime\n",
    "import time\n",
    "import warnings\n",
    "warnings.filterwarnings('ignore')\n",
    "\n",
    "# to display the total number columns present in the dataset\n",
    "pd.set_option('display.max_columns', None)"
   ]
  },
  {
   "cell_type": "code",
   "execution_count": 42,
   "metadata": {},
   "outputs": [],
   "source": [
    "def reduce_mem_usage(props):\n",
    "    start_mem_usg = props.memory_usage().sum() / 1024**2 \n",
    "    print(\"Memory usage of properties dataframe is :\",start_mem_usg,\" MB\")\n",
    "    NAlist = [] # Keeps track of columns that have missing values filled in. \n",
    "    for col in props.columns:\n",
    "        if props[col].dtype != object:  # Exclude strings\n",
    "            \n",
    "            # Print current column type\n",
    "            print(\"******************************\")\n",
    "            print(\"Column: \",col)\n",
    "            print(\"dtype before: \",props[col].dtype)\n",
    "            \n",
    "            # make variables for Int, max and min\n",
    "            IsInt = False\n",
    "            mx = props[col].max()\n",
    "            mn = props[col].min()\n",
    "            \n",
    "            # Integer does not support NA, therefore, NA needs to be filled\n",
    "            if not np.isfinite(props[col]).all(): \n",
    "                NAlist.append(col)\n",
    "                props[col].fillna(mn-1,inplace=True)  \n",
    "                   \n",
    "            # test if column can be converted to an integer\n",
    "            asint = props[col].fillna(0).astype(np.int64)\n",
    "            result = (props[col] - asint)\n",
    "            result = result.sum()\n",
    "            if result > -0.01 and result < 0.01:\n",
    "                IsInt = True\n",
    "\n",
    "            \n",
    "            # Make Integer/unsigned Integer datatypes\n",
    "            if IsInt:\n",
    "                if mn >= 0:\n",
    "                    if mx < 255:\n",
    "                        props[col] = props[col].astype(np.uint8)\n",
    "                    elif mx < 65535:\n",
    "                        props[col] = props[col].astype(np.uint16)\n",
    "                    elif mx < 4294967295:\n",
    "                        props[col] = props[col].astype(np.uint32)\n",
    "                    else:\n",
    "                        props[col] = props[col].astype(np.uint64)\n",
    "                else:\n",
    "                    if mn > np.iinfo(np.int8).min and mx < np.iinfo(np.int8).max:\n",
    "                        props[col] = props[col].astype(np.int8)\n",
    "                    elif mn > np.iinfo(np.int16).min and mx < np.iinfo(np.int16).max:\n",
    "                        props[col] = props[col].astype(np.int16)\n",
    "                    elif mn > np.iinfo(np.int32).min and mx < np.iinfo(np.int32).max:\n",
    "                        props[col] = props[col].astype(np.int32)\n",
    "                    elif mn > np.iinfo(np.int64).min and mx < np.iinfo(np.int64).max:\n",
    "                        props[col] = props[col].astype(np.int64)    \n",
    "            \n",
    "            # Make float datatypes 32 bit\n",
    "            else:\n",
    "                props[col] = props[col].astype(np.float32)\n",
    "            \n",
    "            # Print new column type\n",
    "            print(\"dtype after: \",props[col].dtype)\n",
    "            print(\"******************************\")\n",
    "    \n",
    "    # Print final result\n",
    "    print(\"___MEMORY USAGE AFTER COMPLETION:___\")\n",
    "    mem_usg = props.memory_usage().sum() / 1024**2 \n",
    "    print(\"Memory usage is: \",mem_usg,\" MB\")\n",
    "    print(\"This is \",100*mem_usg/start_mem_usg,\"% of the initial size\")\n",
    "    return props, NAlist"
   ]
  },
  {
   "cell_type": "code",
   "execution_count": 43,
   "metadata": {},
   "outputs": [
    {
     "data": {
      "text/plain": [
       "(7043, 21)"
      ]
     },
     "execution_count": 43,
     "metadata": {},
     "output_type": "execute_result"
    }
   ],
   "source": [
    "df=pd.read_csv('Telco-Customer-Churn.csv')\n",
    "df.shape"
   ]
  },
  {
   "cell_type": "code",
   "execution_count": 44,
   "metadata": {},
   "outputs": [],
   "source": [
    "# replace empty strings with nan\n",
    "df = df.replace(r'^\\s*$', np.nan, regex=True)"
   ]
  },
  {
   "cell_type": "code",
   "execution_count": 45,
   "metadata": {},
   "outputs": [
    {
     "data": {
      "text/plain": [
       "customerID           0\n",
       "gender               0\n",
       "SeniorCitizen        0\n",
       "Partner              0\n",
       "Dependents           0\n",
       "tenure               0\n",
       "PhoneService         0\n",
       "MultipleLines        0\n",
       "InternetService      0\n",
       "OnlineSecurity       0\n",
       "OnlineBackup         0\n",
       "DeviceProtection     0\n",
       "TechSupport          0\n",
       "StreamingTV          0\n",
       "StreamingMovies      0\n",
       "Contract             0\n",
       "PaperlessBilling     0\n",
       "PaymentMethod        0\n",
       "MonthlyCharges       0\n",
       "TotalCharges        11\n",
       "Churn                0\n",
       "dtype: int64"
      ]
     },
     "execution_count": 45,
     "metadata": {},
     "output_type": "execute_result"
    }
   ],
   "source": [
    "# percentage of missing values\n",
    "df.isnull().sum()"
   ]
  },
  {
   "cell_type": "code",
   "execution_count": 46,
   "metadata": {},
   "outputs": [
    {
     "data": {
      "text/plain": [
       "(7032, 21)"
      ]
     },
     "execution_count": 46,
     "metadata": {},
     "output_type": "execute_result"
    }
   ],
   "source": [
    "# drop 11 rows have nans in \n",
    "df=df.dropna(axis=0)\n",
    "df.shape"
   ]
  },
  {
   "cell_type": "code",
   "execution_count": 47,
   "metadata": {},
   "outputs": [
    {
     "name": "stdout",
     "output_type": "stream",
     "text": [
      "Memory usage of properties dataframe is : 1.1802978515625  MB\n",
      "******************************\n",
      "Column:  SeniorCitizen\n",
      "dtype before:  int64\n",
      "dtype after:  uint8\n",
      "******************************\n",
      "******************************\n",
      "Column:  tenure\n",
      "dtype before:  int64\n",
      "dtype after:  uint8\n",
      "******************************\n",
      "******************************\n",
      "Column:  MonthlyCharges\n",
      "dtype before:  float64\n",
      "dtype after:  float32\n",
      "******************************\n",
      "___MEMORY USAGE AFTER COMPLETION:___\n",
      "Memory usage is:  1.0595855712890625  MB\n",
      "This is  89.77272727272727 % of the initial size\n",
      "_________________\n",
      "\n",
      "Warning: the following columns have missing values filled with 'df['column_name'].min() -1': \n",
      "_________________\n",
      "\n",
      "[]\n"
     ]
    }
   ],
   "source": [
    "df, NAlist = reduce_mem_usage(df)\n",
    "print(\"_________________\")\n",
    "print(\"\")\n",
    "print(\"Warning: the following columns have missing values filled with 'df['column_name'].min() -1': \")\n",
    "print(\"_________________\")\n",
    "print(\"\")\n",
    "print(NAlist)"
   ]
  },
  {
   "cell_type": "code",
   "execution_count": 48,
   "metadata": {},
   "outputs": [
    {
     "data": {
      "text/html": [
       "<div>\n",
       "<style scoped>\n",
       "    .dataframe tbody tr th:only-of-type {\n",
       "        vertical-align: middle;\n",
       "    }\n",
       "\n",
       "    .dataframe tbody tr th {\n",
       "        vertical-align: top;\n",
       "    }\n",
       "\n",
       "    .dataframe thead th {\n",
       "        text-align: right;\n",
       "    }\n",
       "</style>\n",
       "<table border=\"1\" class=\"dataframe\">\n",
       "  <thead>\n",
       "    <tr style=\"text-align: right;\">\n",
       "      <th></th>\n",
       "      <th>Churn</th>\n",
       "      <th>counts</th>\n",
       "    </tr>\n",
       "  </thead>\n",
       "  <tbody>\n",
       "    <tr>\n",
       "      <td>0</td>\n",
       "      <td>No</td>\n",
       "      <td>5163</td>\n",
       "    </tr>\n",
       "    <tr>\n",
       "      <td>1</td>\n",
       "      <td>Yes</td>\n",
       "      <td>1869</td>\n",
       "    </tr>\n",
       "  </tbody>\n",
       "</table>\n",
       "</div>"
      ],
      "text/plain": [
       "  Churn  counts\n",
       "0    No    5163\n",
       "1   Yes    1869"
      ]
     },
     "execution_count": 48,
     "metadata": {},
     "output_type": "execute_result"
    }
   ],
   "source": [
    "df.groupby(['Churn']).size().reset_index(name='counts')"
   ]
  },
  {
   "cell_type": "code",
   "execution_count": 49,
   "metadata": {},
   "outputs": [
    {
     "data": {
      "text/plain": [
       "No     0.734215\n",
       "Yes    0.265785\n",
       "Name: Churn, dtype: float64"
      ]
     },
     "execution_count": 49,
     "metadata": {},
     "output_type": "execute_result"
    }
   ],
   "source": [
    "# Check distribution of fraud and non-fraud transactions - data is imbalanced\n",
    "df['Churn'].value_counts() / df.shape[0]"
   ]
  },
  {
   "cell_type": "code",
   "execution_count": 50,
   "metadata": {},
   "outputs": [
    {
     "data": {
      "text/html": [
       "<div>\n",
       "<style scoped>\n",
       "    .dataframe tbody tr th:only-of-type {\n",
       "        vertical-align: middle;\n",
       "    }\n",
       "\n",
       "    .dataframe tbody tr th {\n",
       "        vertical-align: top;\n",
       "    }\n",
       "\n",
       "    .dataframe thead th {\n",
       "        text-align: right;\n",
       "    }\n",
       "</style>\n",
       "<table border=\"1\" class=\"dataframe\">\n",
       "  <thead>\n",
       "    <tr style=\"text-align: right;\">\n",
       "      <th></th>\n",
       "      <th>customerID</th>\n",
       "      <th>gender</th>\n",
       "      <th>SeniorCitizen</th>\n",
       "      <th>Partner</th>\n",
       "      <th>Dependents</th>\n",
       "      <th>tenure</th>\n",
       "      <th>PhoneService</th>\n",
       "      <th>MultipleLines</th>\n",
       "      <th>InternetService</th>\n",
       "      <th>OnlineSecurity</th>\n",
       "      <th>OnlineBackup</th>\n",
       "      <th>DeviceProtection</th>\n",
       "      <th>TechSupport</th>\n",
       "      <th>StreamingTV</th>\n",
       "      <th>StreamingMovies</th>\n",
       "      <th>Contract</th>\n",
       "      <th>PaperlessBilling</th>\n",
       "      <th>PaymentMethod</th>\n",
       "      <th>MonthlyCharges</th>\n",
       "      <th>TotalCharges</th>\n",
       "      <th>Churn</th>\n",
       "    </tr>\n",
       "  </thead>\n",
       "  <tbody>\n",
       "    <tr>\n",
       "      <td>0</td>\n",
       "      <td>7590-VHVEG</td>\n",
       "      <td>Female</td>\n",
       "      <td>0</td>\n",
       "      <td>Yes</td>\n",
       "      <td>No</td>\n",
       "      <td>1</td>\n",
       "      <td>No</td>\n",
       "      <td>No phone service</td>\n",
       "      <td>DSL</td>\n",
       "      <td>No</td>\n",
       "      <td>Yes</td>\n",
       "      <td>No</td>\n",
       "      <td>No</td>\n",
       "      <td>No</td>\n",
       "      <td>No</td>\n",
       "      <td>Month-to-month</td>\n",
       "      <td>Yes</td>\n",
       "      <td>Electronic check</td>\n",
       "      <td>29.850000</td>\n",
       "      <td>29.85</td>\n",
       "      <td>No</td>\n",
       "    </tr>\n",
       "    <tr>\n",
       "      <td>1</td>\n",
       "      <td>5575-GNVDE</td>\n",
       "      <td>Male</td>\n",
       "      <td>0</td>\n",
       "      <td>No</td>\n",
       "      <td>No</td>\n",
       "      <td>34</td>\n",
       "      <td>Yes</td>\n",
       "      <td>No</td>\n",
       "      <td>DSL</td>\n",
       "      <td>Yes</td>\n",
       "      <td>No</td>\n",
       "      <td>Yes</td>\n",
       "      <td>No</td>\n",
       "      <td>No</td>\n",
       "      <td>No</td>\n",
       "      <td>One year</td>\n",
       "      <td>No</td>\n",
       "      <td>Mailed check</td>\n",
       "      <td>56.950001</td>\n",
       "      <td>1889.5</td>\n",
       "      <td>No</td>\n",
       "    </tr>\n",
       "    <tr>\n",
       "      <td>2</td>\n",
       "      <td>3668-QPYBK</td>\n",
       "      <td>Male</td>\n",
       "      <td>0</td>\n",
       "      <td>No</td>\n",
       "      <td>No</td>\n",
       "      <td>2</td>\n",
       "      <td>Yes</td>\n",
       "      <td>No</td>\n",
       "      <td>DSL</td>\n",
       "      <td>Yes</td>\n",
       "      <td>Yes</td>\n",
       "      <td>No</td>\n",
       "      <td>No</td>\n",
       "      <td>No</td>\n",
       "      <td>No</td>\n",
       "      <td>Month-to-month</td>\n",
       "      <td>Yes</td>\n",
       "      <td>Mailed check</td>\n",
       "      <td>53.849998</td>\n",
       "      <td>108.15</td>\n",
       "      <td>Yes</td>\n",
       "    </tr>\n",
       "    <tr>\n",
       "      <td>3</td>\n",
       "      <td>7795-CFOCW</td>\n",
       "      <td>Male</td>\n",
       "      <td>0</td>\n",
       "      <td>No</td>\n",
       "      <td>No</td>\n",
       "      <td>45</td>\n",
       "      <td>No</td>\n",
       "      <td>No phone service</td>\n",
       "      <td>DSL</td>\n",
       "      <td>Yes</td>\n",
       "      <td>No</td>\n",
       "      <td>Yes</td>\n",
       "      <td>Yes</td>\n",
       "      <td>No</td>\n",
       "      <td>No</td>\n",
       "      <td>One year</td>\n",
       "      <td>No</td>\n",
       "      <td>Bank transfer (automatic)</td>\n",
       "      <td>42.299999</td>\n",
       "      <td>1840.75</td>\n",
       "      <td>No</td>\n",
       "    </tr>\n",
       "    <tr>\n",
       "      <td>4</td>\n",
       "      <td>9237-HQITU</td>\n",
       "      <td>Female</td>\n",
       "      <td>0</td>\n",
       "      <td>No</td>\n",
       "      <td>No</td>\n",
       "      <td>2</td>\n",
       "      <td>Yes</td>\n",
       "      <td>No</td>\n",
       "      <td>Fiber optic</td>\n",
       "      <td>No</td>\n",
       "      <td>No</td>\n",
       "      <td>No</td>\n",
       "      <td>No</td>\n",
       "      <td>No</td>\n",
       "      <td>No</td>\n",
       "      <td>Month-to-month</td>\n",
       "      <td>Yes</td>\n",
       "      <td>Electronic check</td>\n",
       "      <td>70.699997</td>\n",
       "      <td>151.65</td>\n",
       "      <td>Yes</td>\n",
       "    </tr>\n",
       "  </tbody>\n",
       "</table>\n",
       "</div>"
      ],
      "text/plain": [
       "   customerID  gender  SeniorCitizen Partner Dependents  tenure PhoneService  \\\n",
       "0  7590-VHVEG  Female              0     Yes         No       1           No   \n",
       "1  5575-GNVDE    Male              0      No         No      34          Yes   \n",
       "2  3668-QPYBK    Male              0      No         No       2          Yes   \n",
       "3  7795-CFOCW    Male              0      No         No      45           No   \n",
       "4  9237-HQITU  Female              0      No         No       2          Yes   \n",
       "\n",
       "      MultipleLines InternetService OnlineSecurity OnlineBackup  \\\n",
       "0  No phone service             DSL             No          Yes   \n",
       "1                No             DSL            Yes           No   \n",
       "2                No             DSL            Yes          Yes   \n",
       "3  No phone service             DSL            Yes           No   \n",
       "4                No     Fiber optic             No           No   \n",
       "\n",
       "  DeviceProtection TechSupport StreamingTV StreamingMovies        Contract  \\\n",
       "0               No          No          No              No  Month-to-month   \n",
       "1              Yes          No          No              No        One year   \n",
       "2               No          No          No              No  Month-to-month   \n",
       "3              Yes         Yes          No              No        One year   \n",
       "4               No          No          No              No  Month-to-month   \n",
       "\n",
       "  PaperlessBilling              PaymentMethod  MonthlyCharges TotalCharges  \\\n",
       "0              Yes           Electronic check       29.850000        29.85   \n",
       "1               No               Mailed check       56.950001       1889.5   \n",
       "2              Yes               Mailed check       53.849998       108.15   \n",
       "3               No  Bank transfer (automatic)       42.299999      1840.75   \n",
       "4              Yes           Electronic check       70.699997       151.65   \n",
       "\n",
       "  Churn  \n",
       "0    No  \n",
       "1    No  \n",
       "2   Yes  \n",
       "3    No  \n",
       "4   Yes  "
      ]
     },
     "execution_count": 50,
     "metadata": {},
     "output_type": "execute_result"
    }
   ],
   "source": [
    "df.head()"
   ]
  },
  {
   "cell_type": "code",
   "execution_count": 51,
   "metadata": {},
   "outputs": [],
   "source": [
    "df.TotalCharges = df.TotalCharges.astype(float)"
   ]
  },
  {
   "cell_type": "code",
   "execution_count": null,
   "metadata": {},
   "outputs": [],
   "source": []
  },
  {
   "cell_type": "code",
   "execution_count": null,
   "metadata": {},
   "outputs": [],
   "source": []
  },
  {
   "cell_type": "code",
   "execution_count": 52,
   "metadata": {},
   "outputs": [
    {
     "name": "stdout",
     "output_type": "stream",
     "text": [
      "<class 'pandas.core.frame.DataFrame'>\n",
      "Int64Index: 7032 entries, 0 to 7042\n",
      "Data columns (total 21 columns):\n",
      "customerID          7032 non-null object\n",
      "gender              7032 non-null object\n",
      "SeniorCitizen       7032 non-null uint8\n",
      "Partner             7032 non-null object\n",
      "Dependents          7032 non-null object\n",
      "tenure              7032 non-null uint8\n",
      "PhoneService        7032 non-null object\n",
      "MultipleLines       7032 non-null object\n",
      "InternetService     7032 non-null object\n",
      "OnlineSecurity      7032 non-null object\n",
      "OnlineBackup        7032 non-null object\n",
      "DeviceProtection    7032 non-null object\n",
      "TechSupport         7032 non-null object\n",
      "StreamingTV         7032 non-null object\n",
      "StreamingMovies     7032 non-null object\n",
      "Contract            7032 non-null object\n",
      "PaperlessBilling    7032 non-null object\n",
      "PaymentMethod       7032 non-null object\n",
      "MonthlyCharges      7032 non-null float32\n",
      "TotalCharges        7032 non-null float64\n",
      "Churn               7032 non-null object\n",
      "dtypes: float32(1), float64(1), object(17), uint8(2)\n",
      "memory usage: 1.1+ MB\n"
     ]
    }
   ],
   "source": [
    "df.info()"
   ]
  },
  {
   "cell_type": "code",
   "execution_count": 53,
   "metadata": {},
   "outputs": [],
   "source": [
    "# drop columns with all nans\n",
    "df=df.dropna(axis=1, how='all')"
   ]
  },
  {
   "cell_type": "code",
   "execution_count": 54,
   "metadata": {},
   "outputs": [],
   "source": [
    "# drop rows with all nans\n",
    "df=df.dropna(axis=0)"
   ]
  },
  {
   "cell_type": "code",
   "execution_count": 55,
   "metadata": {},
   "outputs": [
    {
     "data": {
      "text/plain": [
       "(7032, 21)"
      ]
     },
     "execution_count": 55,
     "metadata": {},
     "output_type": "execute_result"
    }
   ],
   "source": [
    "df.shape"
   ]
  },
  {
   "cell_type": "code",
   "execution_count": 56,
   "metadata": {},
   "outputs": [
    {
     "data": {
      "text/html": [
       "<div>\n",
       "<style scoped>\n",
       "    .dataframe tbody tr th:only-of-type {\n",
       "        vertical-align: middle;\n",
       "    }\n",
       "\n",
       "    .dataframe tbody tr th {\n",
       "        vertical-align: top;\n",
       "    }\n",
       "\n",
       "    .dataframe thead th {\n",
       "        text-align: right;\n",
       "    }\n",
       "</style>\n",
       "<table border=\"1\" class=\"dataframe\">\n",
       "  <thead>\n",
       "    <tr style=\"text-align: right;\">\n",
       "      <th></th>\n",
       "      <th>SeniorCitizen</th>\n",
       "      <th>tenure</th>\n",
       "      <th>MonthlyCharges</th>\n",
       "      <th>TotalCharges</th>\n",
       "    </tr>\n",
       "  </thead>\n",
       "  <tbody>\n",
       "    <tr>\n",
       "      <td>count</td>\n",
       "      <td>7032.000000</td>\n",
       "      <td>7032.000000</td>\n",
       "      <td>7032.000000</td>\n",
       "      <td>7032.000000</td>\n",
       "    </tr>\n",
       "    <tr>\n",
       "      <td>mean</td>\n",
       "      <td>0.162400</td>\n",
       "      <td>32.421786</td>\n",
       "      <td>64.798347</td>\n",
       "      <td>2283.300441</td>\n",
       "    </tr>\n",
       "    <tr>\n",
       "      <td>std</td>\n",
       "      <td>0.368844</td>\n",
       "      <td>24.545260</td>\n",
       "      <td>30.085947</td>\n",
       "      <td>2266.771362</td>\n",
       "    </tr>\n",
       "    <tr>\n",
       "      <td>min</td>\n",
       "      <td>0.000000</td>\n",
       "      <td>1.000000</td>\n",
       "      <td>18.250000</td>\n",
       "      <td>18.800000</td>\n",
       "    </tr>\n",
       "    <tr>\n",
       "      <td>25%</td>\n",
       "      <td>0.000000</td>\n",
       "      <td>9.000000</td>\n",
       "      <td>35.587499</td>\n",
       "      <td>401.450000</td>\n",
       "    </tr>\n",
       "    <tr>\n",
       "      <td>50%</td>\n",
       "      <td>0.000000</td>\n",
       "      <td>29.000000</td>\n",
       "      <td>70.349998</td>\n",
       "      <td>1397.475000</td>\n",
       "    </tr>\n",
       "    <tr>\n",
       "      <td>75%</td>\n",
       "      <td>0.000000</td>\n",
       "      <td>55.000000</td>\n",
       "      <td>89.862499</td>\n",
       "      <td>3794.737500</td>\n",
       "    </tr>\n",
       "    <tr>\n",
       "      <td>max</td>\n",
       "      <td>1.000000</td>\n",
       "      <td>72.000000</td>\n",
       "      <td>118.750000</td>\n",
       "      <td>8684.800000</td>\n",
       "    </tr>\n",
       "  </tbody>\n",
       "</table>\n",
       "</div>"
      ],
      "text/plain": [
       "       SeniorCitizen       tenure  MonthlyCharges  TotalCharges\n",
       "count    7032.000000  7032.000000     7032.000000   7032.000000\n",
       "mean        0.162400    32.421786       64.798347   2283.300441\n",
       "std         0.368844    24.545260       30.085947   2266.771362\n",
       "min         0.000000     1.000000       18.250000     18.800000\n",
       "25%         0.000000     9.000000       35.587499    401.450000\n",
       "50%         0.000000    29.000000       70.349998   1397.475000\n",
       "75%         0.000000    55.000000       89.862499   3794.737500\n",
       "max         1.000000    72.000000      118.750000   8684.800000"
      ]
     },
     "execution_count": 56,
     "metadata": {},
     "output_type": "execute_result"
    }
   ],
   "source": [
    "df.describe()"
   ]
  },
  {
   "cell_type": "code",
   "execution_count": 57,
   "metadata": {},
   "outputs": [
    {
     "name": "stdout",
     "output_type": "stream",
     "text": [
      "customerID :  7032  labels\n",
      "gender :  2  labels\n",
      "SeniorCitizen :  2  labels\n",
      "Partner :  2  labels\n",
      "Dependents :  2  labels\n",
      "tenure :  72  labels\n",
      "PhoneService :  2  labels\n",
      "MultipleLines :  3  labels\n",
      "InternetService :  3  labels\n",
      "OnlineSecurity :  3  labels\n",
      "OnlineBackup :  3  labels\n",
      "DeviceProtection :  3  labels\n",
      "TechSupport :  3  labels\n",
      "StreamingTV :  3  labels\n",
      "StreamingMovies :  3  labels\n",
      "Contract :  3  labels\n",
      "PaperlessBilling :  2  labels\n",
      "PaymentMethod :  4  labels\n",
      "MonthlyCharges :  1584  labels\n",
      "TotalCharges :  6530  labels\n",
      "Churn :  2  labels\n"
     ]
    }
   ],
   "source": [
    "# how many labels in each variable\n",
    "for col in df.columns:\n",
    "    print(col, ': ', len(df[col].unique()), ' labels')"
   ]
  },
  {
   "cell_type": "code",
   "execution_count": 58,
   "metadata": {},
   "outputs": [],
   "source": [
    "#replace values in columns with binary features\n",
    "\n",
    "binary_cols=['Partner','Dependents','PhoneService','PaperlessBilling','Churn']\n",
    "\n",
    "for i in binary_cols:\n",
    "    df[i]=df[i].replace({\"Yes\":1,\"No\":0})\n",
    "\n",
    "#Encoding column 'gender'\n",
    "df['gender']=df['gender'].replace({\"Male\":1,\"Female\":0})\n"
   ]
  },
  {
   "cell_type": "code",
   "execution_count": 59,
   "metadata": {},
   "outputs": [
    {
     "data": {
      "text/plain": [
       "Electronic check             2365\n",
       "Mailed check                 1604\n",
       "Bank transfer (automatic)    1542\n",
       "Credit card (automatic)      1521\n",
       "Name: PaymentMethod, dtype: int64"
      ]
     },
     "execution_count": 59,
     "metadata": {},
     "output_type": "execute_result"
    }
   ],
   "source": [
    "df.PaymentMethod.value_counts(dropna=False)"
   ]
  },
  {
   "cell_type": "code",
   "execution_count": 60,
   "metadata": {},
   "outputs": [
    {
     "data": {
      "text/plain": [
       "No                  3385\n",
       "Yes                 2967\n",
       "No phone service     680\n",
       "Name: MultipleLines, dtype: int64"
      ]
     },
     "execution_count": 60,
     "metadata": {},
     "output_type": "execute_result"
    }
   ],
   "source": [
    "df.MultipleLines.value_counts(dropna=False)"
   ]
  },
  {
   "cell_type": "code",
   "execution_count": 61,
   "metadata": {},
   "outputs": [
    {
     "data": {
      "text/plain": [
       "Fiber optic    3096\n",
       "DSL            2416\n",
       "No             1520\n",
       "Name: InternetService, dtype: int64"
      ]
     },
     "execution_count": 61,
     "metadata": {},
     "output_type": "execute_result"
    }
   ],
   "source": [
    "df.InternetService.value_counts(dropna=False)"
   ]
  },
  {
   "cell_type": "code",
   "execution_count": 62,
   "metadata": {},
   "outputs": [
    {
     "data": {
      "text/plain": [
       "20.20      11\n",
       "19.75       9\n",
       "19.65       8\n",
       "20.05       8\n",
       "19.90       8\n",
       "           ..\n",
       "1066.15     1\n",
       "249.95      1\n",
       "8333.95     1\n",
       "7171.70     1\n",
       "1024.00     1\n",
       "Name: TotalCharges, Length: 6530, dtype: int64"
      ]
     },
     "execution_count": 62,
     "metadata": {},
     "output_type": "execute_result"
    }
   ],
   "source": [
    "df.TotalCharges.value_counts(dropna=False)"
   ]
  },
  {
   "cell_type": "code",
   "execution_count": 63,
   "metadata": {},
   "outputs": [
    {
     "data": {
      "text/plain": [
       "<seaborn.axisgrid.FacetGrid at 0x7ffb30b64910>"
      ]
     },
     "execution_count": 63,
     "metadata": {},
     "output_type": "execute_result"
    },
    {
     "data": {
      "image/png": "[encoded data removed]",
      "text/plain": [
       "<Figure size 1440x360 with 4 Axes>"
      ]
     },
     "metadata": {
      "needs_background": "light"
     },
     "output_type": "display_data"
    }
   ],
   "source": [
    "sns.catplot(x='Churn', col='PaymentMethod', kind='count', data=df)"
   ]
  },
  {
   "cell_type": "code",
   "execution_count": 64,
   "metadata": {},
   "outputs": [
    {
     "data": {
      "text/plain": [
       "<seaborn.axisgrid.FacetGrid at 0x7ffb30a64a10>"
      ]
     },
     "execution_count": 64,
     "metadata": {},
     "output_type": "execute_result"
    },
    {
     "data": {
      "image/png": "[encoded data removed]",
      "text/plain": [
       "<Figure size 1080x360 with 3 Axes>"
      ]
     },
     "metadata": {
      "needs_background": "light"
     },
     "output_type": "display_data"
    }
   ],
   "source": [
    "sns.catplot(x='Churn', col='InternetService', kind='count', data=df)"
   ]
  },
  {
   "cell_type": "code",
   "execution_count": 65,
   "metadata": {},
   "outputs": [
    {
     "data": {
      "text/plain": [
       "Churn  InternetService\n",
       "0      DSL                1957\n",
       "       Fiber optic        1799\n",
       "       No                 1407\n",
       "1      DSL                 459\n",
       "       Fiber optic        1297\n",
       "       No                  113\n",
       "dtype: int64"
      ]
     },
     "execution_count": 65,
     "metadata": {},
     "output_type": "execute_result"
    }
   ],
   "source": [
    "df.groupby(['Churn','InternetService'])['InternetService'].count().unstack(fill_value=0).stack()"
   ]
  },
  {
   "cell_type": "code",
   "execution_count": 66,
   "metadata": {},
   "outputs": [
    {
     "data": {
      "text/plain": [
       "<seaborn.axisgrid.FacetGrid at 0x7ffb289c58d0>"
      ]
     },
     "execution_count": 66,
     "metadata": {},
     "output_type": "execute_result"
    },
    {
     "data": {
      "image/png": "[encoded data removed]",
      "text/plain": [
       "<Figure size 1080x360 with 3 Axes>"
      ]
     },
     "metadata": {
      "needs_background": "light"
     },
     "output_type": "display_data"
    }
   ],
   "source": [
    "sns.catplot(x='Churn', col='MultipleLines', kind='count', data=df)"
   ]
  },
  {
   "cell_type": "code",
   "execution_count": 67,
   "metadata": {},
   "outputs": [],
   "source": [
    "def get_type_lists(data_frame=df, rejects=['customerID']):\n",
    "    \"\"\"Creates lists of numeric and categorical variables.    \n",
    "    :param frame: The frame from which to determine types.\n",
    "    :param rejects: Variable names not to be included in returned lists.\n",
    "    :return: Tuple of lists for numeric and categorical variables in the frame.\n",
    "    \"\"\"\n",
    "    nums, cats = [], []\n",
    "\n",
    "    for col in data_frame.columns:\n",
    "        if col not in rejects:\n",
    "            type=data_frame[col].dtype\n",
    "            if type in ('uint8','int64','int32','float32','float64') :\n",
    "                nums.append(col)\n",
    "            elif str(type) in ('object')  :\n",
    "                cats.append(col)\n",
    "                \n",
    "    print('Numeric =', nums)                \n",
    "    print()\n",
    "    print('Categorical =', cats)\n",
    "    \n",
    "    return nums, cats"
   ]
  },
  {
   "cell_type": "code",
   "execution_count": 68,
   "metadata": {},
   "outputs": [
    {
     "name": "stdout",
     "output_type": "stream",
     "text": [
      "Numeric = ['gender', 'SeniorCitizen', 'Partner', 'Dependents', 'tenure', 'PhoneService', 'PaperlessBilling', 'MonthlyCharges', 'TotalCharges', 'Churn']\n",
      "\n",
      "Categorical = ['MultipleLines', 'InternetService', 'OnlineSecurity', 'OnlineBackup', 'DeviceProtection', 'TechSupport', 'StreamingTV', 'StreamingMovies', 'Contract', 'PaymentMethod']\n"
     ]
    }
   ],
   "source": [
    "original_nums, cats = get_type_lists()"
   ]
  },
  {
   "cell_type": "code",
   "execution_count": 69,
   "metadata": {},
   "outputs": [
    {
     "data": {
      "text/plain": [
       "(7032, 32)"
      ]
     },
     "execution_count": 69,
     "metadata": {},
     "output_type": "execute_result"
    }
   ],
   "source": [
    "# Encoding categorical data\n",
    "df = pd.get_dummies(df,columns=cats, drop_first=True) #, dummy_na=True)\n",
    "df.shape"
   ]
  },
  {
   "cell_type": "code",
   "execution_count": 70,
   "metadata": {},
   "outputs": [
    {
     "data": {
      "text/plain": [
       "(7032, 32)"
      ]
     },
     "execution_count": 70,
     "metadata": {},
     "output_type": "execute_result"
    }
   ],
   "source": [
    "df.shape"
   ]
  },
  {
   "cell_type": "code",
   "execution_count": 71,
   "metadata": {},
   "outputs": [
    {
     "data": {
      "text/plain": [
       "Text(0.5, 0, 'Monthly Charges')"
      ]
     },
     "execution_count": 71,
     "metadata": {},
     "output_type": "execute_result"
    },
    {
     "data": {
      "image/png": "[encoded data removed]",
      "text/plain": [
       "<Figure size 1080x432 with 1 Axes>"
      ]
     },
     "metadata": {
      "needs_background": "light"
     },
     "output_type": "display_data"
    }
   ],
   "source": [
    "plt.figure(figsize=(15,6))\n",
    "plt.subplot(1, 2, 1)\n",
    "fig = df.MonthlyCharges.hist(bins=10)\n",
    "fig.set_ylabel('Number of obs')\n",
    "fig.set_xlabel('Monthly Charges')"
   ]
  },
  {
   "cell_type": "code",
   "execution_count": 72,
   "metadata": {},
   "outputs": [
    {
     "name": "stdout",
     "output_type": "stream",
     "text": [
      "correlated features:  10\n"
     ]
    }
   ],
   "source": [
    "# find and remove correlated features to reduce the feature space\n",
    "def correlation(dataset, threshold):\n",
    "    col_corr = set()  # Set of all the names of correlated columns\n",
    "    corr_matrix = dataset.corr()\n",
    "    for i in range(len(corr_matrix.columns)):\n",
    "        for j in range(i):\n",
    "            if abs(corr_matrix.iloc[i, j]) > threshold: # we are interested in absolute coeff value\n",
    "                colname = corr_matrix.columns[i]  # getting the name of column\n",
    "                col_corr.add(colname)\n",
    "    return col_corr\n",
    "\n",
    "corr_features = correlation(df, 0.75)\n",
    "print('correlated features: ', len(set(corr_features)) )"
   ]
  },
  {
   "cell_type": "code",
   "execution_count": 73,
   "metadata": {},
   "outputs": [
    {
     "data": {
      "text/plain": [
       "{'DeviceProtection_No internet service',\n",
       " 'InternetService_Fiber optic',\n",
       " 'InternetService_No',\n",
       " 'MultipleLines_No phone service',\n",
       " 'OnlineBackup_No internet service',\n",
       " 'OnlineSecurity_No internet service',\n",
       " 'StreamingMovies_No internet service',\n",
       " 'StreamingTV_No internet service',\n",
       " 'TechSupport_No internet service',\n",
       " 'TotalCharges'}"
      ]
     },
     "execution_count": 73,
     "metadata": {},
     "output_type": "execute_result"
    }
   ],
   "source": [
    "corr_features"
   ]
  },
  {
   "cell_type": "code",
   "execution_count": 74,
   "metadata": {},
   "outputs": [],
   "source": [
    "# removed correlated  features\n",
    "#df.drop(labels=corr_features, axis=1, inplace=True)"
   ]
  },
  {
   "cell_type": "code",
   "execution_count": 75,
   "metadata": {},
   "outputs": [],
   "source": [
    "y = df.Churn\n",
    "X = df.drop(\"Churn\", axis=1)"
   ]
  },
  {
   "cell_type": "code",
   "execution_count": 76,
   "metadata": {},
   "outputs": [
    {
     "name": "stdout",
     "output_type": "stream",
     "text": [
      "Training set has 4922 samples.\n",
      "Testing set has 2110 samples.\n"
     ]
    }
   ],
   "source": [
    "# Split the 'features' and 'Churn' target data into training and testing sets\n",
    "X_train, X_test, y_train, y_test = train_test_split(X.drop(['customerID'], axis=1), y, \n",
    "                                                    test_size = 0.3, \n",
    "                                                    random_state = 0,\n",
    "                                                    stratify=y,\n",
    "                                                    shuffle=True)\n",
    "\n",
    "# Show the results of the split\n",
    "print(\"Training set has {} samples.\".format(X_train.shape[0]))\n",
    "print(\"Testing set has {} samples.\".format(X_test.shape[0]))"
   ]
  },
  {
   "cell_type": "code",
   "execution_count": 77,
   "metadata": {},
   "outputs": [
    {
     "data": {
      "text/plain": [
       "((4922, 30), (2110, 30))"
      ]
     },
     "execution_count": 77,
     "metadata": {},
     "output_type": "execute_result"
    }
   ],
   "source": [
    "X_train.shape, X_test.shape"
   ]
  },
  {
   "cell_type": "code",
   "execution_count": 78,
   "metadata": {},
   "outputs": [],
   "source": [
    "pos_count = y_train.sum()\n",
    "neg_count = len(y_train) - pos_count\n",
    "imbalance_ratio = neg_count / pos_count"
   ]
  },
  {
   "cell_type": "code",
   "execution_count": 79,
   "metadata": {},
   "outputs": [],
   "source": [
    "from xgboost.sklearn import XGBClassifier\n",
    "\n",
    "# Create the XGB classifier, xgb_model.\n",
    "xgb_model = XGBClassifier(n_estimators=400, scale_pos_weight= imbalance_ratio, learning_rate= 0.01,\n",
    "                          max_delta_step=1,eval_metric='AUC',\n",
    "                          max_depth=8,subsample=0.8,nthread=4)"
   ]
  },
  {
   "cell_type": "code",
   "execution_count": 80,
   "metadata": {},
   "outputs": [
    {
     "name": "stdout",
     "output_type": "stream",
     "text": [
      "[0]\tvalidation_0-error:0.217188\tvalidation_1-error:0.267299\n",
      "[1]\tvalidation_0-error:0.202357\tvalidation_1-error:0.245972\n",
      "[2]\tvalidation_0-error:0.199919\tvalidation_1-error:0.247867\n",
      "[3]\tvalidation_0-error:0.196059\tvalidation_1-error:0.247867\n",
      "[4]\tvalidation_0-error:0.192605\tvalidation_1-error:0.24455\n",
      "[5]\tvalidation_0-error:0.191589\tvalidation_1-error:0.244076\n",
      "[6]\tvalidation_0-error:0.193417\tvalidation_1-error:0.238863\n",
      "[7]\tvalidation_0-error:0.190776\tvalidation_1-error:0.240758\n",
      "[8]\tvalidation_0-error:0.189354\tvalidation_1-error:0.235545\n",
      "[9]\tvalidation_0-error:0.188948\tvalidation_1-error:0.236967\n",
      "[10]\tvalidation_0-error:0.187729\tvalidation_1-error:0.240758\n",
      "[11]\tvalidation_0-error:0.187932\tvalidation_1-error:0.236967\n",
      "[12]\tvalidation_0-error:0.186916\tvalidation_1-error:0.239336\n",
      "[13]\tvalidation_0-error:0.187729\tvalidation_1-error:0.239336\n",
      "[14]\tvalidation_0-error:0.186916\tvalidation_1-error:0.240758\n",
      "[15]\tvalidation_0-error:0.187322\tvalidation_1-error:0.238389\n",
      "[16]\tvalidation_0-error:0.187525\tvalidation_1-error:0.237441\n",
      "[17]\tvalidation_0-error:0.1859\tvalidation_1-error:0.238863\n",
      "[18]\tvalidation_0-error:0.186306\tvalidation_1-error:0.238389\n",
      "[19]\tvalidation_0-error:0.18651\tvalidation_1-error:0.238389\n",
      "[20]\tvalidation_0-error:0.187119\tvalidation_1-error:0.238863\n",
      "[21]\tvalidation_0-error:0.188744\tvalidation_1-error:0.238863\n",
      "[22]\tvalidation_0-error:0.187729\tvalidation_1-error:0.239336\n",
      "[23]\tvalidation_0-error:0.188541\tvalidation_1-error:0.240284\n",
      "[24]\tvalidation_0-error:0.186306\tvalidation_1-error:0.241706\n",
      "[25]\tvalidation_0-error:0.1859\tvalidation_1-error:0.238863\n",
      "[26]\tvalidation_0-error:0.187322\tvalidation_1-error:0.241706\n",
      "[27]\tvalidation_0-error:0.187119\tvalidation_1-error:0.24218\n",
      "[28]\tvalidation_0-error:0.186916\tvalidation_1-error:0.24218\n",
      "[29]\tvalidation_0-error:0.187525\tvalidation_1-error:0.24218\n",
      "[30]\tvalidation_0-error:0.186306\tvalidation_1-error:0.241706\n",
      "[31]\tvalidation_0-error:0.186103\tvalidation_1-error:0.243128\n",
      "[32]\tvalidation_0-error:0.185494\tvalidation_1-error:0.242654\n",
      "[33]\tvalidation_0-error:0.186103\tvalidation_1-error:0.243128\n",
      "[34]\tvalidation_0-error:0.186103\tvalidation_1-error:0.241706\n",
      "[35]\tvalidation_0-error:0.185291\tvalidation_1-error:0.242654\n",
      "[36]\tvalidation_0-error:0.185087\tvalidation_1-error:0.241706\n",
      "[37]\tvalidation_0-error:0.185494\tvalidation_1-error:0.241232\n",
      "[38]\tvalidation_0-error:0.184478\tvalidation_1-error:0.240284\n",
      "[39]\tvalidation_0-error:0.185087\tvalidation_1-error:0.238863\n",
      "[40]\tvalidation_0-error:0.184884\tvalidation_1-error:0.239336\n",
      "[41]\tvalidation_0-error:0.184884\tvalidation_1-error:0.237441\n",
      "[42]\tvalidation_0-error:0.184275\tvalidation_1-error:0.238863\n",
      "[43]\tvalidation_0-error:0.184478\tvalidation_1-error:0.238863\n",
      "[44]\tvalidation_0-error:0.185087\tvalidation_1-error:0.238389\n",
      "[45]\tvalidation_0-error:0.1859\tvalidation_1-error:0.239336\n",
      "[46]\tvalidation_0-error:0.185697\tvalidation_1-error:0.239336\n",
      "[47]\tvalidation_0-error:0.185291\tvalidation_1-error:0.238389\n",
      "[48]\tvalidation_0-error:0.184681\tvalidation_1-error:0.23981\n",
      "[49]\tvalidation_0-error:0.184884\tvalidation_1-error:0.240284\n",
      "[50]\tvalidation_0-error:0.185087\tvalidation_1-error:0.238863\n",
      "[51]\tvalidation_0-error:0.185087\tvalidation_1-error:0.239336\n",
      "[52]\tvalidation_0-error:0.185087\tvalidation_1-error:0.23981\n",
      "[53]\tvalidation_0-error:0.184681\tvalidation_1-error:0.238389\n",
      "[54]\tvalidation_0-error:0.183868\tvalidation_1-error:0.238863\n",
      "[55]\tvalidation_0-error:0.184478\tvalidation_1-error:0.23981\n",
      "[56]\tvalidation_0-error:0.184884\tvalidation_1-error:0.236967\n",
      "[57]\tvalidation_0-error:0.184681\tvalidation_1-error:0.237441\n",
      "[58]\tvalidation_0-error:0.184478\tvalidation_1-error:0.236967\n",
      "[59]\tvalidation_0-error:0.183868\tvalidation_1-error:0.237441\n",
      "[60]\tvalidation_0-error:0.183868\tvalidation_1-error:0.237915\n",
      "[61]\tvalidation_0-error:0.183056\tvalidation_1-error:0.237915\n",
      "[62]\tvalidation_0-error:0.183665\tvalidation_1-error:0.237915\n",
      "[63]\tvalidation_0-error:0.183462\tvalidation_1-error:0.238389\n",
      "[64]\tvalidation_0-error:0.182852\tvalidation_1-error:0.237915\n",
      "[65]\tvalidation_0-error:0.184275\tvalidation_1-error:0.238389\n",
      "[66]\tvalidation_0-error:0.183056\tvalidation_1-error:0.238863\n",
      "[67]\tvalidation_0-error:0.183462\tvalidation_1-error:0.238389\n",
      "[68]\tvalidation_0-error:0.184275\tvalidation_1-error:0.238389\n",
      "[69]\tvalidation_0-error:0.183665\tvalidation_1-error:0.23981\n",
      "[70]\tvalidation_0-error:0.183665\tvalidation_1-error:0.238863\n",
      "[71]\tvalidation_0-error:0.183462\tvalidation_1-error:0.238863\n",
      "[72]\tvalidation_0-error:0.183462\tvalidation_1-error:0.237441\n",
      "[73]\tvalidation_0-error:0.183665\tvalidation_1-error:0.237915\n",
      "[74]\tvalidation_0-error:0.183259\tvalidation_1-error:0.238863\n",
      "[75]\tvalidation_0-error:0.183056\tvalidation_1-error:0.238389\n",
      "[76]\tvalidation_0-error:0.182649\tvalidation_1-error:0.238389\n",
      "[77]\tvalidation_0-error:0.183056\tvalidation_1-error:0.237915\n",
      "[78]\tvalidation_0-error:0.183462\tvalidation_1-error:0.23981\n",
      "[79]\tvalidation_0-error:0.183462\tvalidation_1-error:0.23981\n",
      "[80]\tvalidation_0-error:0.182649\tvalidation_1-error:0.239336\n",
      "[81]\tvalidation_0-error:0.183056\tvalidation_1-error:0.238389\n",
      "[82]\tvalidation_0-error:0.182446\tvalidation_1-error:0.237441\n",
      "[83]\tvalidation_0-error:0.182649\tvalidation_1-error:0.238863\n",
      "[84]\tvalidation_0-error:0.182852\tvalidation_1-error:0.239336\n",
      "[85]\tvalidation_0-error:0.182852\tvalidation_1-error:0.237915\n",
      "[86]\tvalidation_0-error:0.182649\tvalidation_1-error:0.237915\n",
      "[87]\tvalidation_0-error:0.182243\tvalidation_1-error:0.237915\n",
      "[88]\tvalidation_0-error:0.182243\tvalidation_1-error:0.237915\n",
      "[89]\tvalidation_0-error:0.181837\tvalidation_1-error:0.238863\n",
      "[90]\tvalidation_0-error:0.181837\tvalidation_1-error:0.239336\n",
      "[91]\tvalidation_0-error:0.18204\tvalidation_1-error:0.237441\n",
      "[92]\tvalidation_0-error:0.18143\tvalidation_1-error:0.237441\n",
      "[93]\tvalidation_0-error:0.18204\tvalidation_1-error:0.236967\n",
      "[94]\tvalidation_0-error:0.181024\tvalidation_1-error:0.236967\n",
      "[95]\tvalidation_0-error:0.181024\tvalidation_1-error:0.236967\n",
      "[96]\tvalidation_0-error:0.180821\tvalidation_1-error:0.236493\n",
      "[97]\tvalidation_0-error:0.180211\tvalidation_1-error:0.237441\n",
      "[98]\tvalidation_0-error:0.181227\tvalidation_1-error:0.238389\n",
      "[99]\tvalidation_0-error:0.18143\tvalidation_1-error:0.238389\n",
      "[100]\tvalidation_0-error:0.181024\tvalidation_1-error:0.238863\n",
      "[101]\tvalidation_0-error:0.180618\tvalidation_1-error:0.238863\n",
      "[102]\tvalidation_0-error:0.180618\tvalidation_1-error:0.238863\n",
      "[103]\tvalidation_0-error:0.180618\tvalidation_1-error:0.238389\n",
      "[104]\tvalidation_0-error:0.180414\tvalidation_1-error:0.237915\n",
      "[105]\tvalidation_0-error:0.180618\tvalidation_1-error:0.236967\n",
      "[106]\tvalidation_0-error:0.180008\tvalidation_1-error:0.237441\n",
      "[107]\tvalidation_0-error:0.179805\tvalidation_1-error:0.238389\n",
      "[108]\tvalidation_0-error:0.179805\tvalidation_1-error:0.238389\n",
      "[109]\tvalidation_0-error:0.180008\tvalidation_1-error:0.236967\n",
      "[110]\tvalidation_0-error:0.179399\tvalidation_1-error:0.237441\n",
      "[111]\tvalidation_0-error:0.180008\tvalidation_1-error:0.236493\n",
      "[112]\tvalidation_0-error:0.180008\tvalidation_1-error:0.238863\n",
      "[113]\tvalidation_0-error:0.180008\tvalidation_1-error:0.238389\n",
      "[114]\tvalidation_0-error:0.179602\tvalidation_1-error:0.238389\n",
      "[115]\tvalidation_0-error:0.178789\tvalidation_1-error:0.240284\n",
      "[116]\tvalidation_0-error:0.179602\tvalidation_1-error:0.238863\n",
      "[117]\tvalidation_0-error:0.178789\tvalidation_1-error:0.23981\n",
      "[118]\tvalidation_0-error:0.179195\tvalidation_1-error:0.238863\n",
      "[119]\tvalidation_0-error:0.179195\tvalidation_1-error:0.238863\n",
      "[120]\tvalidation_0-error:0.178789\tvalidation_1-error:0.238863\n",
      "[121]\tvalidation_0-error:0.178789\tvalidation_1-error:0.237915\n",
      "[122]\tvalidation_0-error:0.178383\tvalidation_1-error:0.239336\n",
      "[123]\tvalidation_0-error:0.177976\tvalidation_1-error:0.238863\n",
      "[124]\tvalidation_0-error:0.17818\tvalidation_1-error:0.238389\n",
      "[125]\tvalidation_0-error:0.17757\tvalidation_1-error:0.238863\n",
      "[126]\tvalidation_0-error:0.177773\tvalidation_1-error:0.238863\n",
      "[127]\tvalidation_0-error:0.17757\tvalidation_1-error:0.238389\n",
      "[128]\tvalidation_0-error:0.177164\tvalidation_1-error:0.237915\n",
      "[129]\tvalidation_0-error:0.176961\tvalidation_1-error:0.237915\n",
      "[130]\tvalidation_0-error:0.176961\tvalidation_1-error:0.238389\n",
      "[131]\tvalidation_0-error:0.177164\tvalidation_1-error:0.238389\n",
      "[132]\tvalidation_0-error:0.176961\tvalidation_1-error:0.238863\n",
      "[133]\tvalidation_0-error:0.176961\tvalidation_1-error:0.240284\n",
      "[134]\tvalidation_0-error:0.176757\tvalidation_1-error:0.240758\n"
     ]
    },
    {
     "name": "stdout",
     "output_type": "stream",
     "text": [
      "[135]\tvalidation_0-error:0.176351\tvalidation_1-error:0.240284\n",
      "[136]\tvalidation_0-error:0.176554\tvalidation_1-error:0.240284\n",
      "[137]\tvalidation_0-error:0.175945\tvalidation_1-error:0.239336\n",
      "[138]\tvalidation_0-error:0.176148\tvalidation_1-error:0.240284\n",
      "[139]\tvalidation_0-error:0.176554\tvalidation_1-error:0.23981\n",
      "[140]\tvalidation_0-error:0.176554\tvalidation_1-error:0.239336\n",
      "[141]\tvalidation_0-error:0.175538\tvalidation_1-error:0.239336\n",
      "[142]\tvalidation_0-error:0.175538\tvalidation_1-error:0.238863\n",
      "[143]\tvalidation_0-error:0.175538\tvalidation_1-error:0.239336\n",
      "[144]\tvalidation_0-error:0.175335\tvalidation_1-error:0.239336\n",
      "[145]\tvalidation_0-error:0.175335\tvalidation_1-error:0.239336\n",
      "[146]\tvalidation_0-error:0.175335\tvalidation_1-error:0.23981\n",
      "[147]\tvalidation_0-error:0.174929\tvalidation_1-error:0.240284\n",
      "[148]\tvalidation_0-error:0.175335\tvalidation_1-error:0.23981\n",
      "[149]\tvalidation_0-error:0.174929\tvalidation_1-error:0.23981\n",
      "[150]\tvalidation_0-error:0.174929\tvalidation_1-error:0.23981\n",
      "[151]\tvalidation_0-error:0.174523\tvalidation_1-error:0.23981\n",
      "[152]\tvalidation_0-error:0.175538\tvalidation_1-error:0.240284\n",
      "[153]\tvalidation_0-error:0.174726\tvalidation_1-error:0.240284\n",
      "[154]\tvalidation_0-error:0.174523\tvalidation_1-error:0.239336\n",
      "[155]\tvalidation_0-error:0.175132\tvalidation_1-error:0.239336\n",
      "[156]\tvalidation_0-error:0.174726\tvalidation_1-error:0.238863\n",
      "[157]\tvalidation_0-error:0.174523\tvalidation_1-error:0.239336\n",
      "[158]\tvalidation_0-error:0.173913\tvalidation_1-error:0.238863\n",
      "[159]\tvalidation_0-error:0.173304\tvalidation_1-error:0.238389\n",
      "[160]\tvalidation_0-error:0.173507\tvalidation_1-error:0.238389\n",
      "[161]\tvalidation_0-error:0.17371\tvalidation_1-error:0.238863\n",
      "[162]\tvalidation_0-error:0.1731\tvalidation_1-error:0.238389\n",
      "[163]\tvalidation_0-error:0.173507\tvalidation_1-error:0.238389\n",
      "[164]\tvalidation_0-error:0.17371\tvalidation_1-error:0.238863\n",
      "[165]\tvalidation_0-error:0.1731\tvalidation_1-error:0.240284\n",
      "[166]\tvalidation_0-error:0.1731\tvalidation_1-error:0.238389\n",
      "[167]\tvalidation_0-error:0.17371\tvalidation_1-error:0.238389\n",
      "[168]\tvalidation_0-error:0.17371\tvalidation_1-error:0.238389\n",
      "[169]\tvalidation_0-error:0.173913\tvalidation_1-error:0.238863\n",
      "[170]\tvalidation_0-error:0.174116\tvalidation_1-error:0.238389\n",
      "[171]\tvalidation_0-error:0.174319\tvalidation_1-error:0.237915\n",
      "[172]\tvalidation_0-error:0.174319\tvalidation_1-error:0.238389\n",
      "[173]\tvalidation_0-error:0.173913\tvalidation_1-error:0.238389\n",
      "[174]\tvalidation_0-error:0.174116\tvalidation_1-error:0.238389\n",
      "[175]\tvalidation_0-error:0.173507\tvalidation_1-error:0.239336\n",
      "[176]\tvalidation_0-error:0.174116\tvalidation_1-error:0.238389\n",
      "[177]\tvalidation_0-error:0.173913\tvalidation_1-error:0.238389\n",
      "[178]\tvalidation_0-error:0.173507\tvalidation_1-error:0.238389\n",
      "[179]\tvalidation_0-error:0.172491\tvalidation_1-error:0.238389\n",
      "[180]\tvalidation_0-error:0.172288\tvalidation_1-error:0.238389\n",
      "[181]\tvalidation_0-error:0.172085\tvalidation_1-error:0.238863\n",
      "[182]\tvalidation_0-error:0.171272\tvalidation_1-error:0.238863\n",
      "[183]\tvalidation_0-error:0.171069\tvalidation_1-error:0.238389\n",
      "[184]\tvalidation_0-error:0.170866\tvalidation_1-error:0.238863\n",
      "[185]\tvalidation_0-error:0.171069\tvalidation_1-error:0.239336\n",
      "[186]\tvalidation_0-error:0.171272\tvalidation_1-error:0.239336\n",
      "[187]\tvalidation_0-error:0.171272\tvalidation_1-error:0.23981\n",
      "[188]\tvalidation_0-error:0.170866\tvalidation_1-error:0.240284\n",
      "[189]\tvalidation_0-error:0.170459\tvalidation_1-error:0.23981\n",
      "[190]\tvalidation_0-error:0.170053\tvalidation_1-error:0.23981\n",
      "[191]\tvalidation_0-error:0.169443\tvalidation_1-error:0.23981\n",
      "[192]\tvalidation_0-error:0.170256\tvalidation_1-error:0.239336\n",
      "[193]\tvalidation_0-error:0.170053\tvalidation_1-error:0.240284\n",
      "[194]\tvalidation_0-error:0.16924\tvalidation_1-error:0.240284\n",
      "[195]\tvalidation_0-error:0.16924\tvalidation_1-error:0.240284\n",
      "[196]\tvalidation_0-error:0.169443\tvalidation_1-error:0.240284\n",
      "[197]\tvalidation_0-error:0.16924\tvalidation_1-error:0.23981\n",
      "[198]\tvalidation_0-error:0.16924\tvalidation_1-error:0.240758\n",
      "[199]\tvalidation_0-error:0.169037\tvalidation_1-error:0.241232\n",
      "[200]\tvalidation_0-error:0.169443\tvalidation_1-error:0.241706\n",
      "[201]\tvalidation_0-error:0.169037\tvalidation_1-error:0.240758\n",
      "[202]\tvalidation_0-error:0.168834\tvalidation_1-error:0.241232\n",
      "[203]\tvalidation_0-error:0.168834\tvalidation_1-error:0.241232\n",
      "[204]\tvalidation_0-error:0.168834\tvalidation_1-error:0.240758\n",
      "[205]\tvalidation_0-error:0.168427\tvalidation_1-error:0.240758\n",
      "[206]\tvalidation_0-error:0.168631\tvalidation_1-error:0.241232\n",
      "[207]\tvalidation_0-error:0.168224\tvalidation_1-error:0.241706\n",
      "[208]\tvalidation_0-error:0.168224\tvalidation_1-error:0.241232\n",
      "[209]\tvalidation_0-error:0.168224\tvalidation_1-error:0.241232\n",
      "[210]\tvalidation_0-error:0.167412\tvalidation_1-error:0.240758\n",
      "[211]\tvalidation_0-error:0.167005\tvalidation_1-error:0.240284\n",
      "[212]\tvalidation_0-error:0.167412\tvalidation_1-error:0.240284\n",
      "[213]\tvalidation_0-error:0.166802\tvalidation_1-error:0.240284\n",
      "[214]\tvalidation_0-error:0.166396\tvalidation_1-error:0.23981\n",
      "[215]\tvalidation_0-error:0.166802\tvalidation_1-error:0.238389\n",
      "[216]\tvalidation_0-error:0.166193\tvalidation_1-error:0.236967\n",
      "[217]\tvalidation_0-error:0.165583\tvalidation_1-error:0.237441\n",
      "[218]\tvalidation_0-error:0.165786\tvalidation_1-error:0.237441\n",
      "[219]\tvalidation_0-error:0.165583\tvalidation_1-error:0.237915\n",
      "[220]\tvalidation_0-error:0.165989\tvalidation_1-error:0.236967\n",
      "[221]\tvalidation_0-error:0.165177\tvalidation_1-error:0.237441\n",
      "[222]\tvalidation_0-error:0.16538\tvalidation_1-error:0.237441\n",
      "[223]\tvalidation_0-error:0.164974\tvalidation_1-error:0.237441\n",
      "[224]\tvalidation_0-error:0.164974\tvalidation_1-error:0.237915\n",
      "[225]\tvalidation_0-error:0.165177\tvalidation_1-error:0.236967\n",
      "[226]\tvalidation_0-error:0.164567\tvalidation_1-error:0.237441\n",
      "[227]\tvalidation_0-error:0.164567\tvalidation_1-error:0.236967\n",
      "[228]\tvalidation_0-error:0.164364\tvalidation_1-error:0.236493\n",
      "[229]\tvalidation_0-error:0.164161\tvalidation_1-error:0.236493\n",
      "[230]\tvalidation_0-error:0.163958\tvalidation_1-error:0.237441\n",
      "[231]\tvalidation_0-error:0.163958\tvalidation_1-error:0.237441\n",
      "[232]\tvalidation_0-error:0.164364\tvalidation_1-error:0.236967\n",
      "[233]\tvalidation_0-error:0.163958\tvalidation_1-error:0.236967\n",
      "[234]\tvalidation_0-error:0.163755\tvalidation_1-error:0.236967\n",
      "[235]\tvalidation_0-error:0.163755\tvalidation_1-error:0.236967\n",
      "[236]\tvalidation_0-error:0.163958\tvalidation_1-error:0.237441\n",
      "[237]\tvalidation_0-error:0.163958\tvalidation_1-error:0.237441\n",
      "[238]\tvalidation_0-error:0.163755\tvalidation_1-error:0.236967\n",
      "[239]\tvalidation_0-error:0.163755\tvalidation_1-error:0.236967\n",
      "[240]\tvalidation_0-error:0.162942\tvalidation_1-error:0.237441\n",
      "[241]\tvalidation_0-error:0.163145\tvalidation_1-error:0.237441\n",
      "[242]\tvalidation_0-error:0.163145\tvalidation_1-error:0.237441\n",
      "[243]\tvalidation_0-error:0.163348\tvalidation_1-error:0.237441\n",
      "[244]\tvalidation_0-error:0.162942\tvalidation_1-error:0.237915\n",
      "[245]\tvalidation_0-error:0.162942\tvalidation_1-error:0.237915\n",
      "[246]\tvalidation_0-error:0.162536\tvalidation_1-error:0.238389\n",
      "[247]\tvalidation_0-error:0.162332\tvalidation_1-error:0.238389\n",
      "[248]\tvalidation_0-error:0.162332\tvalidation_1-error:0.237915\n",
      "[249]\tvalidation_0-error:0.162129\tvalidation_1-error:0.237915\n",
      "[250]\tvalidation_0-error:0.162129\tvalidation_1-error:0.237915\n",
      "[251]\tvalidation_0-error:0.162129\tvalidation_1-error:0.237441\n",
      "[252]\tvalidation_0-error:0.161723\tvalidation_1-error:0.237441\n",
      "[253]\tvalidation_0-error:0.161723\tvalidation_1-error:0.238389\n",
      "[254]\tvalidation_0-error:0.161113\tvalidation_1-error:0.238863\n",
      "[255]\tvalidation_0-error:0.161113\tvalidation_1-error:0.238863\n",
      "[256]\tvalidation_0-error:0.161317\tvalidation_1-error:0.238389\n",
      "[257]\tvalidation_0-error:0.16152\tvalidation_1-error:0.237441\n",
      "[258]\tvalidation_0-error:0.160707\tvalidation_1-error:0.237441\n",
      "[259]\tvalidation_0-error:0.160098\tvalidation_1-error:0.236493\n",
      "[260]\tvalidation_0-error:0.159691\tvalidation_1-error:0.237915\n",
      "[261]\tvalidation_0-error:0.159691\tvalidation_1-error:0.237441\n",
      "[262]\tvalidation_0-error:0.159894\tvalidation_1-error:0.237441\n",
      "[263]\tvalidation_0-error:0.159894\tvalidation_1-error:0.237441\n",
      "[264]\tvalidation_0-error:0.159691\tvalidation_1-error:0.237441\n",
      "[265]\tvalidation_0-error:0.159082\tvalidation_1-error:0.237915\n",
      "[266]\tvalidation_0-error:0.159082\tvalidation_1-error:0.237915\n",
      "[267]\tvalidation_0-error:0.158269\tvalidation_1-error:0.236967\n"
     ]
    },
    {
     "name": "stdout",
     "output_type": "stream",
     "text": [
      "[268]\tvalidation_0-error:0.157863\tvalidation_1-error:0.236967\n",
      "[269]\tvalidation_0-error:0.157659\tvalidation_1-error:0.236493\n",
      "[270]\tvalidation_0-error:0.157659\tvalidation_1-error:0.236493\n",
      "[271]\tvalidation_0-error:0.157456\tvalidation_1-error:0.236493\n",
      "[272]\tvalidation_0-error:0.157863\tvalidation_1-error:0.236493\n",
      "[273]\tvalidation_0-error:0.156847\tvalidation_1-error:0.236493\n",
      "[274]\tvalidation_0-error:0.15705\tvalidation_1-error:0.236967\n",
      "[275]\tvalidation_0-error:0.156644\tvalidation_1-error:0.236493\n",
      "[276]\tvalidation_0-error:0.156034\tvalidation_1-error:0.236967\n",
      "[277]\tvalidation_0-error:0.155425\tvalidation_1-error:0.237441\n",
      "[278]\tvalidation_0-error:0.155628\tvalidation_1-error:0.237441\n",
      "[279]\tvalidation_0-error:0.155628\tvalidation_1-error:0.236967\n",
      "[280]\tvalidation_0-error:0.155628\tvalidation_1-error:0.236967\n",
      "[281]\tvalidation_0-error:0.155425\tvalidation_1-error:0.236493\n",
      "[282]\tvalidation_0-error:0.155221\tvalidation_1-error:0.236493\n",
      "[283]\tvalidation_0-error:0.155221\tvalidation_1-error:0.236967\n",
      "[284]\tvalidation_0-error:0.154815\tvalidation_1-error:0.236967\n",
      "[285]\tvalidation_0-error:0.154612\tvalidation_1-error:0.237441\n",
      "[286]\tvalidation_0-error:0.155221\tvalidation_1-error:0.236493\n",
      "[287]\tvalidation_0-error:0.155018\tvalidation_1-error:0.236493\n",
      "[288]\tvalidation_0-error:0.154409\tvalidation_1-error:0.236493\n",
      "[289]\tvalidation_0-error:0.155018\tvalidation_1-error:0.235545\n",
      "[290]\tvalidation_0-error:0.154612\tvalidation_1-error:0.236019\n",
      "[291]\tvalidation_0-error:0.154612\tvalidation_1-error:0.236019\n",
      "[292]\tvalidation_0-error:0.154409\tvalidation_1-error:0.236019\n",
      "[293]\tvalidation_0-error:0.154409\tvalidation_1-error:0.236493\n",
      "[294]\tvalidation_0-error:0.154002\tvalidation_1-error:0.236967\n",
      "[295]\tvalidation_0-error:0.153799\tvalidation_1-error:0.236967\n",
      "[296]\tvalidation_0-error:0.15319\tvalidation_1-error:0.236493\n",
      "[297]\tvalidation_0-error:0.15319\tvalidation_1-error:0.236967\n",
      "[298]\tvalidation_0-error:0.152987\tvalidation_1-error:0.236493\n",
      "[299]\tvalidation_0-error:0.152987\tvalidation_1-error:0.236967\n",
      "[300]\tvalidation_0-error:0.152987\tvalidation_1-error:0.236493\n",
      "[301]\tvalidation_0-error:0.152783\tvalidation_1-error:0.236493\n",
      "[302]\tvalidation_0-error:0.152377\tvalidation_1-error:0.236019\n",
      "[303]\tvalidation_0-error:0.152174\tvalidation_1-error:0.236019\n",
      "[304]\tvalidation_0-error:0.152174\tvalidation_1-error:0.236019\n",
      "[305]\tvalidation_0-error:0.152174\tvalidation_1-error:0.236493\n",
      "[306]\tvalidation_0-error:0.151361\tvalidation_1-error:0.236493\n",
      "[307]\tvalidation_0-error:0.151564\tvalidation_1-error:0.235545\n",
      "[308]\tvalidation_0-error:0.151158\tvalidation_1-error:0.235545\n",
      "[309]\tvalidation_0-error:0.150752\tvalidation_1-error:0.236019\n",
      "[310]\tvalidation_0-error:0.151158\tvalidation_1-error:0.235545\n",
      "[311]\tvalidation_0-error:0.150955\tvalidation_1-error:0.235545\n",
      "[312]\tvalidation_0-error:0.151361\tvalidation_1-error:0.235071\n",
      "[313]\tvalidation_0-error:0.151564\tvalidation_1-error:0.235545\n",
      "[314]\tvalidation_0-error:0.151158\tvalidation_1-error:0.235545\n",
      "[315]\tvalidation_0-error:0.150955\tvalidation_1-error:0.235545\n",
      "[316]\tvalidation_0-error:0.150752\tvalidation_1-error:0.236019\n",
      "[317]\tvalidation_0-error:0.150345\tvalidation_1-error:0.235071\n",
      "[318]\tvalidation_0-error:0.150549\tvalidation_1-error:0.236019\n",
      "[319]\tvalidation_0-error:0.150345\tvalidation_1-error:0.236019\n",
      "[320]\tvalidation_0-error:0.150752\tvalidation_1-error:0.236019\n",
      "[321]\tvalidation_0-error:0.149939\tvalidation_1-error:0.236019\n",
      "[322]\tvalidation_0-error:0.149939\tvalidation_1-error:0.236493\n",
      "[323]\tvalidation_0-error:0.149939\tvalidation_1-error:0.236019\n",
      "[324]\tvalidation_0-error:0.149736\tvalidation_1-error:0.235545\n",
      "[325]\tvalidation_0-error:0.149533\tvalidation_1-error:0.235545\n",
      "[326]\tvalidation_0-error:0.149533\tvalidation_1-error:0.235071\n",
      "[327]\tvalidation_0-error:0.149533\tvalidation_1-error:0.235545\n",
      "[328]\tvalidation_0-error:0.149533\tvalidation_1-error:0.235071\n",
      "[329]\tvalidation_0-error:0.148923\tvalidation_1-error:0.235071\n",
      "[330]\tvalidation_0-error:0.148923\tvalidation_1-error:0.235545\n",
      "[331]\tvalidation_0-error:0.14872\tvalidation_1-error:0.236019\n",
      "[332]\tvalidation_0-error:0.148314\tvalidation_1-error:0.236019\n",
      "[333]\tvalidation_0-error:0.148517\tvalidation_1-error:0.236019\n",
      "[334]\tvalidation_0-error:0.148517\tvalidation_1-error:0.235071\n",
      "[335]\tvalidation_0-error:0.148111\tvalidation_1-error:0.236019\n",
      "[336]\tvalidation_0-error:0.148111\tvalidation_1-error:0.236019\n",
      "[337]\tvalidation_0-error:0.148314\tvalidation_1-error:0.234597\n",
      "[338]\tvalidation_0-error:0.148517\tvalidation_1-error:0.234597\n",
      "[339]\tvalidation_0-error:0.148517\tvalidation_1-error:0.234597\n",
      "[340]\tvalidation_0-error:0.148111\tvalidation_1-error:0.235071\n",
      "[341]\tvalidation_0-error:0.148314\tvalidation_1-error:0.235545\n",
      "[342]\tvalidation_0-error:0.148517\tvalidation_1-error:0.235071\n",
      "[343]\tvalidation_0-error:0.148923\tvalidation_1-error:0.236019\n",
      "[344]\tvalidation_0-error:0.148517\tvalidation_1-error:0.236493\n",
      "[345]\tvalidation_0-error:0.148517\tvalidation_1-error:0.236967\n",
      "[346]\tvalidation_0-error:0.147907\tvalidation_1-error:0.236493\n",
      "[347]\tvalidation_0-error:0.147298\tvalidation_1-error:0.236019\n",
      "[348]\tvalidation_0-error:0.147501\tvalidation_1-error:0.236493\n",
      "[349]\tvalidation_0-error:0.147298\tvalidation_1-error:0.236967\n",
      "[350]\tvalidation_0-error:0.147095\tvalidation_1-error:0.236967\n",
      "[351]\tvalidation_0-error:0.146892\tvalidation_1-error:0.236493\n",
      "[352]\tvalidation_0-error:0.146485\tvalidation_1-error:0.235545\n",
      "[353]\tvalidation_0-error:0.146688\tvalidation_1-error:0.235071\n",
      "[354]\tvalidation_0-error:0.146282\tvalidation_1-error:0.235545\n",
      "[355]\tvalidation_0-error:0.146282\tvalidation_1-error:0.235071\n",
      "[356]\tvalidation_0-error:0.145876\tvalidation_1-error:0.235545\n",
      "[357]\tvalidation_0-error:0.145672\tvalidation_1-error:0.235545\n",
      "[358]\tvalidation_0-error:0.145266\tvalidation_1-error:0.235071\n",
      "[359]\tvalidation_0-error:0.145469\tvalidation_1-error:0.235071\n",
      "[360]\tvalidation_0-error:0.145469\tvalidation_1-error:0.235545\n",
      "[361]\tvalidation_0-error:0.145469\tvalidation_1-error:0.235071\n",
      "[362]\tvalidation_0-error:0.145266\tvalidation_1-error:0.235545\n",
      "[363]\tvalidation_0-error:0.14486\tvalidation_1-error:0.235071\n",
      "[364]\tvalidation_0-error:0.14486\tvalidation_1-error:0.234597\n",
      "[365]\tvalidation_0-error:0.14486\tvalidation_1-error:0.234597\n",
      "[366]\tvalidation_0-error:0.14486\tvalidation_1-error:0.233649\n",
      "[367]\tvalidation_0-error:0.14486\tvalidation_1-error:0.233649\n",
      "[368]\tvalidation_0-error:0.144657\tvalidation_1-error:0.234123\n",
      "[369]\tvalidation_0-error:0.144657\tvalidation_1-error:0.234597\n",
      "[370]\tvalidation_0-error:0.144657\tvalidation_1-error:0.234123\n",
      "[371]\tvalidation_0-error:0.144657\tvalidation_1-error:0.234123\n",
      "[372]\tvalidation_0-error:0.144453\tvalidation_1-error:0.233649\n",
      "[373]\tvalidation_0-error:0.144453\tvalidation_1-error:0.233649\n",
      "[374]\tvalidation_0-error:0.144047\tvalidation_1-error:0.233649\n",
      "[375]\tvalidation_0-error:0.143844\tvalidation_1-error:0.233649\n",
      "[376]\tvalidation_0-error:0.143641\tvalidation_1-error:0.233175\n",
      "[377]\tvalidation_0-error:0.143641\tvalidation_1-error:0.234597\n",
      "[378]\tvalidation_0-error:0.143234\tvalidation_1-error:0.234123\n",
      "[379]\tvalidation_0-error:0.143438\tvalidation_1-error:0.234123\n",
      "[380]\tvalidation_0-error:0.143234\tvalidation_1-error:0.233649\n",
      "[381]\tvalidation_0-error:0.143031\tvalidation_1-error:0.233649\n",
      "[382]\tvalidation_0-error:0.142828\tvalidation_1-error:0.233649\n",
      "[383]\tvalidation_0-error:0.142422\tvalidation_1-error:0.233175\n",
      "[384]\tvalidation_0-error:0.142219\tvalidation_1-error:0.233649\n",
      "[385]\tvalidation_0-error:0.142422\tvalidation_1-error:0.233649\n",
      "[386]\tvalidation_0-error:0.142219\tvalidation_1-error:0.233649\n",
      "[387]\tvalidation_0-error:0.141812\tvalidation_1-error:0.232701\n",
      "[388]\tvalidation_0-error:0.141812\tvalidation_1-error:0.233175\n",
      "[389]\tvalidation_0-error:0.141812\tvalidation_1-error:0.232227\n",
      "[390]\tvalidation_0-error:0.141609\tvalidation_1-error:0.232227\n",
      "[391]\tvalidation_0-error:0.141609\tvalidation_1-error:0.232701\n",
      "[392]\tvalidation_0-error:0.141406\tvalidation_1-error:0.232701\n",
      "[393]\tvalidation_0-error:0.141609\tvalidation_1-error:0.232701\n",
      "[394]\tvalidation_0-error:0.141406\tvalidation_1-error:0.232227\n",
      "[395]\tvalidation_0-error:0.141609\tvalidation_1-error:0.232227\n",
      "[396]\tvalidation_0-error:0.141406\tvalidation_1-error:0.232227\n",
      "[397]\tvalidation_0-error:0.141\tvalidation_1-error:0.232701\n",
      "[398]\tvalidation_0-error:0.140593\tvalidation_1-error:0.232701\n",
      "[399]\tvalidation_0-error:0.140593\tvalidation_1-error:0.232701\n"
     ]
    },
    {
     "data": {
      "text/plain": [
       "XGBClassifier(base_score=0.5, booster='gbtree', colsample_bylevel=1,\n",
       "              colsample_bynode=1, colsample_bytree=1, eval_metric='AUC',\n",
       "              gamma=0, learning_rate=0.01, max_delta_step=1, max_depth=8,\n",
       "              min_child_weight=1, missing=None, n_estimators=400, n_jobs=1,\n",
       "              nthread=4, objective='binary:logistic', random_state=0,\n",
       "              reg_alpha=0, reg_lambda=1, scale_pos_weight=2.7629969418960245,\n",
       "              seed=None, silent=None, subsample=0.8, verbosity=1)"
      ]
     },
     "execution_count": 80,
     "metadata": {},
     "output_type": "execute_result"
    }
   ],
   "source": [
    "# Train and evaluate.\n",
    "xgb_model.fit(X_train, y_train, eval_metric=['error'], eval_set=[((X_train, y_train)),(X_test, y_test)])"
   ]
  },
  {
   "cell_type": "code",
   "execution_count": 81,
   "metadata": {},
   "outputs": [
    {
     "name": "stdout",
     "output_type": "stream",
     "text": [
      "confusion matrix\n",
      "[[1210  339]\n",
      " [ 152  409]]\n",
      "classification report\n",
      "              precision    recall  f1-score   support\n",
      "\n",
      "           0       0.89      0.78      0.83      1549\n",
      "           1       0.55      0.73      0.62       561\n",
      "\n",
      "    accuracy                           0.77      2110\n",
      "   macro avg       0.72      0.76      0.73      2110\n",
      "weighted avg       0.80      0.77      0.78      2110\n",
      "\n",
      "-----------------------------------------------------------------------------------------\n",
      "Accuracy is :\n",
      "0.7672985781990521\n",
      "Area under the curve : 0.755102\n"
     ]
    }
   ],
   "source": [
    "from sklearn import metrics\n",
    "import warnings\n",
    "warnings.filterwarnings(\"ignore\")\n",
    "\n",
    "y_pred = xgb_model.predict(X_test)  #predicts\n",
    "print('confusion matrix')\n",
    "print(metrics.confusion_matrix(y_test, y_pred))\n",
    "print('classification report')\n",
    "print(metrics.classification_report(y_test, y_pred))\n",
    "print(\"-----------------------------------------------------------------------------------------\")\n",
    "print(\"Accuracy is :\")\n",
    "print(metrics.accuracy_score(y_test, y_pred))\n",
    "print('Area under the curve : %f' % (metrics.roc_auc_score(y_test, y_pred)))"
   ]
  },
  {
   "cell_type": "code",
   "execution_count": 82,
   "metadata": {},
   "outputs": [
    {
     "name": "stdout",
     "output_type": "stream",
     "text": [
      "confusion matrix\n",
      "[[1210  339]\n",
      " [ 152  409]]\n",
      "classification report\n",
      "              precision    recall  f1-score   support\n",
      "\n",
      "           0       0.89      0.78      0.83      1549\n",
      "           1       0.55      0.73      0.62       561\n",
      "\n",
      "    accuracy                           0.77      2110\n",
      "   macro avg       0.72      0.76      0.73      2110\n",
      "weighted avg       0.80      0.77      0.78      2110\n",
      "\n",
      "-----------------------------------------------------------------------------------------\n",
      "Accuracy is :\n",
      "0.7672985781990521\n",
      "Area under the curve : 0.755102\n"
     ]
    }
   ],
   "source": [
    "from sklearn import metrics\n",
    "import warnings\n",
    "warnings.filterwarnings(\"ignore\")\n",
    "\n",
    "y_pred = xgb_model.predict(X_test)  #predicts\n",
    "print('confusion matrix')\n",
    "print(metrics.confusion_matrix(y_test, y_pred))\n",
    "print('classification report')\n",
    "print(metrics.classification_report(y_test, y_pred))\n",
    "print(\"-----------------------------------------------------------------------------------------\")\n",
    "print(\"Accuracy is :\")\n",
    "print(metrics.accuracy_score(y_test, y_pred))\n",
    "print('Area under the curve : %f' % (metrics.roc_auc_score(y_test, y_pred)))"
   ]
  },
  {
   "cell_type": "code",
   "execution_count": 83,
   "metadata": {},
   "outputs": [
    {
     "data": {
      "image/png": "[encoded data removed]",
      "text/plain": [
       "<Figure size 432x432 with 1 Axes>"
      ]
     },
     "metadata": {
      "needs_background": "light"
     },
     "output_type": "display_data"
    }
   ],
   "source": [
    "#from sklearn.metrics import roc_auc_score\n",
    "from sklearn.metrics import roc_curve,auc\n",
    "from seaborn import despine\n",
    "\n",
    "logit_roc_auc = roc_auc_score(y_test, xgb_model.predict(X_test))\n",
    "fpr, tpr, thresholds = roc_curve(y_test, xgb_model.predict_proba(X_test)[:,1])\n",
    "\n",
    "roc_auc = auc(fpr,tpr)\n",
    "\n",
    "plt.figure(figsize=(6,6))\n",
    "\n",
    "\n",
    "# Plotting our Baseline..\n",
    "plt.plot([0,1],[0,1],'k--')\n",
    "plt.plot(fpr, tpr,'g',label='AUC = %0.3f'% roc_auc)\n",
    "plt.legend(loc='lower right')\n",
    "plt.title('ROC Curve',fontsize = 15)\n",
    "plt.xlabel('False Positive Rate',fontsize = 15)\n",
    "plt.ylabel('True Positive Rate',rotation=0,labelpad=45,fontsize = 15)\n",
    "despine()\n"
   ]
  },
  {
   "cell_type": "code",
   "execution_count": 84,
   "metadata": {},
   "outputs": [],
   "source": [
    "from catboost import CatBoostClassifier\n",
    "catb_model = CatBoostClassifier(random_seed=42, od_type='Iter', \n",
    "                                iterations=200, depth=8, learning_rate=0.001,\n",
    "                                od_wait=20, eval_metric='AUC')"
   ]
  },
  {
   "cell_type": "code",
   "execution_count": 85,
   "metadata": {},
   "outputs": [
    {
     "name": "stdout",
     "output_type": "stream",
     "text": [
      "0:\ttest: 0.8297329\ttest1: 0.8221991\tbest: 0.8221991 (0)\ttotal: 63.7ms\tremaining: 12.7s\n",
      "1:\ttest: 0.8405470\ttest1: 0.8322804\tbest: 0.8322804 (1)\ttotal: 71.2ms\tremaining: 7.05s\n",
      "2:\ttest: 0.8429975\ttest1: 0.8331043\tbest: 0.8331043 (2)\ttotal: 78.2ms\tremaining: 5.13s\n",
      "3:\ttest: 0.8471621\ttest1: 0.8386165\tbest: 0.8386165 (3)\ttotal: 84.9ms\tremaining: 4.16s\n",
      "4:\ttest: 0.8472592\ttest1: 0.8396924\tbest: 0.8396924 (4)\ttotal: 90.5ms\tremaining: 3.53s\n",
      "5:\ttest: 0.8480682\ttest1: 0.8417023\tbest: 0.8417023 (5)\ttotal: 96.5ms\tremaining: 3.12s\n",
      "6:\ttest: 0.8490273\ttest1: 0.8426545\tbest: 0.8426545 (6)\ttotal: 103ms\tremaining: 2.83s\n",
      "7:\ttest: 0.8477359\ttest1: 0.8423007\tbest: 0.8426545 (6)\ttotal: 106ms\tremaining: 2.54s\n",
      "8:\ttest: 0.8469029\ttest1: 0.8414422\tbest: 0.8426545 (6)\ttotal: 111ms\tremaining: 2.36s\n",
      "9:\ttest: 0.8465864\ttest1: 0.8406361\tbest: 0.8426545 (6)\ttotal: 117ms\tremaining: 2.22s\n",
      "10:\ttest: 0.8474787\ttest1: 0.8412299\tbest: 0.8426545 (6)\ttotal: 122ms\tremaining: 2.09s\n",
      "11:\ttest: 0.8481198\ttest1: 0.8424485\tbest: 0.8426545 (6)\ttotal: 127ms\tremaining: 1.98s\n",
      "12:\ttest: 0.8491959\ttest1: 0.8426401\tbest: 0.8426545 (6)\ttotal: 132ms\tremaining: 1.9s\n",
      "13:\ttest: 0.8494848\ttest1: 0.8426010\tbest: 0.8426545 (6)\ttotal: 137ms\tremaining: 1.82s\n",
      "14:\ttest: 0.8497717\ttest1: 0.8429267\tbest: 0.8429267 (14)\ttotal: 143ms\tremaining: 1.76s\n",
      "15:\ttest: 0.8504992\ttest1: 0.8433870\tbest: 0.8433870 (15)\ttotal: 148ms\tremaining: 1.7s\n",
      "16:\ttest: 0.8514461\ttest1: 0.8437253\tbest: 0.8437253 (16)\ttotal: 153ms\tremaining: 1.65s\n",
      "17:\ttest: 0.8510422\ttest1: 0.8432644\tbest: 0.8437253 (16)\ttotal: 158ms\tremaining: 1.59s\n",
      "18:\ttest: 0.8517813\ttest1: 0.8436206\tbest: 0.8437253 (16)\ttotal: 162ms\tremaining: 1.54s\n",
      "19:\ttest: 0.8514539\ttest1: 0.8431793\tbest: 0.8437253 (16)\ttotal: 167ms\tremaining: 1.5s\n",
      "20:\ttest: 0.8509357\ttest1: 0.8427615\tbest: 0.8437253 (16)\ttotal: 172ms\tremaining: 1.47s\n",
      "21:\ttest: 0.8516084\ttest1: 0.8430297\tbest: 0.8437253 (16)\ttotal: 177ms\tremaining: 1.44s\n",
      "22:\ttest: 0.8510640\ttest1: 0.8429019\tbest: 0.8437253 (16)\ttotal: 182ms\tremaining: 1.4s\n",
      "23:\ttest: 0.8511753\ttest1: 0.8430003\tbest: 0.8437253 (16)\ttotal: 187ms\tremaining: 1.37s\n",
      "24:\ttest: 0.8512510\ttest1: 0.8432995\tbest: 0.8437253 (16)\ttotal: 192ms\tremaining: 1.34s\n",
      "25:\ttest: 0.8516832\ttest1: 0.8432799\tbest: 0.8437253 (16)\ttotal: 197ms\tremaining: 1.32s\n",
      "26:\ttest: 0.8513087\ttest1: 0.8431534\tbest: 0.8437253 (16)\ttotal: 201ms\tremaining: 1.29s\n",
      "27:\ttest: 0.8518378\ttest1: 0.8432264\tbest: 0.8437253 (16)\ttotal: 206ms\tremaining: 1.27s\n",
      "28:\ttest: 0.8519911\ttest1: 0.8431551\tbest: 0.8437253 (16)\ttotal: 212ms\tremaining: 1.25s\n",
      "29:\ttest: 0.8516687\ttest1: 0.8431522\tbest: 0.8437253 (16)\ttotal: 216ms\tremaining: 1.23s\n",
      "30:\ttest: 0.8518048\ttest1: 0.8429957\tbest: 0.8437253 (16)\ttotal: 222ms\tremaining: 1.21s\n",
      "31:\ttest: 0.8517908\ttest1: 0.8429738\tbest: 0.8437253 (16)\ttotal: 227ms\tremaining: 1.19s\n",
      "32:\ttest: 0.8515606\ttest1: 0.8429221\tbest: 0.8437253 (16)\ttotal: 232ms\tremaining: 1.18s\n",
      "33:\ttest: 0.8517032\ttest1: 0.8428916\tbest: 0.8437253 (16)\ttotal: 238ms\tremaining: 1.16s\n",
      "34:\ttest: 0.8515435\ttest1: 0.8428789\tbest: 0.8437253 (16)\ttotal: 243ms\tremaining: 1.14s\n",
      "35:\ttest: 0.8514117\ttest1: 0.8428127\tbest: 0.8437253 (16)\ttotal: 248ms\tremaining: 1.13s\n",
      "36:\ttest: 0.8515234\ttest1: 0.8426332\tbest: 0.8437253 (16)\ttotal: 253ms\tremaining: 1.11s\n",
      "Stopped by overfitting detector  (20 iterations wait)\n",
      "\n",
      "bestTest = 0.8437252946\n",
      "bestIteration = 16\n",
      "\n",
      "Shrink model to first 17 iterations.\n"
     ]
    },
    {
     "data": {
      "text/plain": [
       "<catboost.core.CatBoostClassifier at 0x7ffaf050b390>"
      ]
     },
     "execution_count": 85,
     "metadata": {},
     "output_type": "execute_result"
    }
   ],
   "source": [
    "# Train and evaluate.\n",
    "catb_model.fit(X_train, y_train, eval_set=[((X_train, y_train)),(X_test, y_test)])"
   ]
  },
  {
   "cell_type": "code",
   "execution_count": 86,
   "metadata": {},
   "outputs": [
    {
     "name": "stdout",
     "output_type": "stream",
     "text": [
      "confusion matrix\n",
      "[[1430  119]\n",
      " [ 301  260]]\n",
      "classification report\n",
      "              precision    recall  f1-score   support\n",
      "\n",
      "           0       0.83      0.92      0.87      1549\n",
      "           1       0.69      0.46      0.55       561\n",
      "\n",
      "    accuracy                           0.80      2110\n",
      "   macro avg       0.76      0.69      0.71      2110\n",
      "weighted avg       0.79      0.80      0.79      2110\n",
      "\n",
      "-----------------------------------------------------------------------------------------\n",
      "Accuracy is :\n",
      "0.8009478672985783\n",
      "Area under the curve : 0.693317\n"
     ]
    }
   ],
   "source": [
    "from sklearn import metrics\n",
    "import warnings\n",
    "warnings.filterwarnings(\"ignore\")\n",
    "\n",
    "y_pred = catb_model.predict(X_test)  #predicts\n",
    "print('confusion matrix')\n",
    "print(metrics.confusion_matrix(y_test, y_pred))\n",
    "print('classification report')\n",
    "print(metrics.classification_report(y_test, y_pred))\n",
    "print(\"-----------------------------------------------------------------------------------------\")\n",
    "print(\"Accuracy is :\")\n",
    "print(metrics.accuracy_score(y_test, y_pred))\n",
    "print('Area under the curve : %f' % (metrics.roc_auc_score(y_test, y_pred)))"
   ]
  },
  {
   "cell_type": "code",
   "execution_count": 87,
   "metadata": {},
   "outputs": [
    {
     "name": "stdout",
     "output_type": "stream",
     "text": [
      "{'iterations': 200, 'learning_rate': 0.001, 'depth': 8, 'od_wait': 20, 'od_type': 'Iter', 'random_seed': 42, 'eval_metric': 'AUC'}\n"
     ]
    }
   ],
   "source": [
    "# List the default parameters.\n",
    "print(catb_model.get_params())"
   ]
  },
  {
   "cell_type": "code",
   "execution_count": 88,
   "metadata": {},
   "outputs": [
    {
     "data": {
      "text/plain": [
       "array([[1430,  119],\n",
       "       [ 301,  260]])"
      ]
     },
     "execution_count": 88,
     "metadata": {},
     "output_type": "execute_result"
    }
   ],
   "source": [
    "# Making the Confusion Matrix\n",
    "from sklearn.metrics import confusion_matrix, classification_report\n",
    "cm = confusion_matrix(y_test, y_pred)\n",
    "cm"
   ]
  },
  {
   "cell_type": "code",
   "execution_count": 89,
   "metadata": {},
   "outputs": [
    {
     "data": {
      "text/plain": [
       "array([[1430,  119],\n",
       "       [ 301,  260]])"
      ]
     },
     "execution_count": 89,
     "metadata": {},
     "output_type": "execute_result"
    }
   ],
   "source": [
    "# Making the Confusion Matrix\n",
    "from sklearn.metrics import confusion_matrix, classification_report\n",
    "cm = confusion_matrix(y_test, y_pred)\n",
    "cm"
   ]
  },
  {
   "cell_type": "code",
   "execution_count": null,
   "metadata": {},
   "outputs": [],
   "source": []
  },
  {
   "cell_type": "code",
   "execution_count": null,
   "metadata": {},
   "outputs": [],
   "source": []
  }
 ],
 "metadata": {
  "kernelspec": {
   "display_name": "Python 3",
   "language": "python",
   "name": "python3"
  },
  "language_info": {
   "codemirror_mode": {
    "name": "ipython",
    "version": 3
   },
   "file_extension": ".py",
   "mimetype": "text/x-python",
   "name": "python",
   "nbconvert_exporter": "python",
   "pygments_lexer": "ipython3",
   "version": "3.7.4"
  }
 },
 "nbformat": 4,
 "nbformat_minor": 2
}
